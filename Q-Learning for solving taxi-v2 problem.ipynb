{
 "cells": [
  {
   "cell_type": "markdown",
   "metadata": {},
   "source": [
    "### This notebook, I explore using Q-learning (Value based Reinforcement Learning Algorithm) to solve the problem of optimizing the actions of an self-driving taxi so that it picks up and drops off passengers at correct locations, takes the optimum route and takes care of passenger's safty and follow traffic rules."
   ]
  },
  {
   "cell_type": "code",
   "execution_count": 1,
   "metadata": {},
   "outputs": [],
   "source": [
    "import gym\n",
    "import numpy as np\n",
    "import matplotlib.pyplot as plt\n",
    "%matplotlib inline"
   ]
  },
  {
   "cell_type": "code",
   "execution_count": 2,
   "metadata": {},
   "outputs": [
    {
     "name": "stdout",
     "output_type": "stream",
     "text": [
      "+---------+\n",
      "|R: | : :G|\n",
      "| : : :\u001b[43m \u001b[0m: |\n",
      "| : : : : |\n",
      "| | : | : |\n",
      "|\u001b[35mY\u001b[0m| : |\u001b[34;1mB\u001b[0m: |\n",
      "+---------+\n",
      "\n"
     ]
    }
   ],
   "source": [
    "## load the game environment and render what it looks like:\n",
    "env=gym.make('Taxi-v2').env\n",
    "env.render()"
   ]
  },
  {
   "cell_type": "code",
   "execution_count": 3,
   "metadata": {},
   "outputs": [
    {
     "name": "stdout",
     "output_type": "stream",
     "text": [
      "Action space Discrete(6)\n",
      "State space Discrete(500)\n"
     ]
    }
   ],
   "source": [
    "## print the size of the action space and state space:\n",
    "print('Action space {}'.format(env.action_space))\n",
    "print('State space {}'.format(env.observation_space))"
   ]
  },
  {
   "cell_type": "markdown",
   "metadata": {},
   "source": [
    "#### A little description of our game:\n",
    "1. filled square is our taxi, which is yellow without a passenger and green with a passenger\n",
    "2. the pipe '|' represent a wall the taxi can't cross\n",
    "3. R, G, Y, B are the possible pick up and destinations. Blue letter represents current pick up location while Purple letter represent current drop off location. \n",
    "4. action number 0-5 represents: \n",
    "    1) 0=south\n",
    "    2) 1=north\n",
    "    3) 2=east\n",
    "    4) 3=west\n",
    "    5) 4=pick up\n",
    "    6) 5=drop off\n",
    "    \n",
    "The 500 states corresponds to a encoding of taxi's location, passenger's location, passenger's destination."
   ]
  },
  {
   "cell_type": "code",
   "execution_count": 4,
   "metadata": {},
   "outputs": [
    {
     "name": "stdout",
     "output_type": "stream",
     "text": [
      "State: 486\n",
      "+---------+\n",
      "|R: | : :\u001b[34;1mG\u001b[0m|\n",
      "| : : : : |\n",
      "| : : : : |\n",
      "| | : | : |\n",
      "|\u001b[35mY\u001b[0m| : |B:\u001b[43m \u001b[0m|\n",
      "+---------+\n",
      "\n"
     ]
    }
   ],
   "source": [
    "## test a encoded state:\n",
    "env.reset()\n",
    "state=env.encode(4, 4, 1, 2)\n",
    "print('State:', state)\n",
    "\n",
    "env.s=state\n",
    "env.render()"
   ]
  },
  {
   "cell_type": "code",
   "execution_count": 5,
   "metadata": {},
   "outputs": [
    {
     "data": {
      "text/plain": [
       "{0: [(1.0, 486, -1, False)],\n",
       " 1: [(1.0, 386, -1, False)],\n",
       " 2: [(1.0, 486, -1, False)],\n",
       " 3: [(1.0, 466, -1, False)],\n",
       " 4: [(1.0, 486, -10, False)],\n",
       " 5: [(1.0, 486, -10, False)]}"
      ]
     },
     "execution_count": 5,
     "metadata": {},
     "output_type": "execute_result"
    }
   ],
   "source": [
    "## check out the reward table:\n",
    "env.P[486]"
   ]
  },
  {
   "cell_type": "markdown",
   "metadata": {},
   "source": [
    "#### this dictionary has structure {action: [(probability, next_state, reward, Done)]}"
   ]
  },
  {
   "cell_type": "markdown",
   "metadata": {},
   "source": [
    "#### Apply Q-Learning to solve the problem\n",
    "- create a Q-table with size Statespace * Actionspace\n",
    "- initialize Q-table with some arbitrary values (zeros in this case)\n",
    "- Update Q values according to the Bellman Equation:\n",
    "    Q (S, A)= (1-alpha) * Q(S, A) + alpha * (reward + gamma * Max(Q (S', A')))\n",
    "- alpha is the learning rate, while gamma is the discount factor which determines how much importance we want to give to future rewards."
   ]
  },
  {
   "cell_type": "markdown",
   "metadata": {},
   "source": [
    "#### Implementation of Q-Learning"
   ]
  },
  {
   "cell_type": "code",
   "execution_count": 6,
   "metadata": {},
   "outputs": [],
   "source": [
    "## First let's initialize the Q-table:\n",
    "q_tab=np.zeros([env.observation_space.n, env.action_space.n])"
   ]
  },
  {
   "cell_type": "code",
   "execution_count": 7,
   "metadata": {},
   "outputs": [],
   "source": [
    "## Set the hyperparameters, note I will be using Epsilon-greedy method for randomly exploring the state-action space \n",
    "## during training\n",
    "\n",
    "import random\n",
    "\n",
    "alpha=0.1\n",
    "gamma=0.6\n",
    "epsilon=0.1\n",
    "\n",
    "## record the steps, penalties and rewards in these three lists for each episode:\n",
    "all_steps=[]\n",
    "all_penalties=[]\n",
    "all_reward=[]\n",
    "\n",
    "## training for 100000 episodes:\n",
    "for i in range(1, 100001):\n",
    "    state=env.reset()\n",
    "    \n",
    "    ## initialize the variables for each episode\n",
    "    Done=False\n",
    "    \n",
    "    step, penalty, Reward=0, 0, 0\n",
    "    \n",
    "    while not Done:\n",
    "        ## choose action according to epsilon greedy algorithm.    \n",
    "        rand_num=random.uniform(0,1)\n",
    "\n",
    "        if rand_num <epsilon:\n",
    "            action=env.action_space.sample()\n",
    "        else:\n",
    "            action=np.argmax(q_tab[state,:])\n",
    "\n",
    "        ## move to the next state by applying action to environment.\n",
    "        next_state, reward, Done, Info=env.step(action)\n",
    "\n",
    "\n",
    "        ## update the Q-table\n",
    "        old_qvalue=q_tab[state,action]\n",
    "\n",
    "        new_qvalue=(1-alpha)*old_qvalue + alpha * (reward + np.max(q_tab[next_state,:]))\n",
    "\n",
    "        q_tab[state, action]=new_qvalue\n",
    "\n",
    "        ## now update the state to new state:\n",
    "        state=next_state\n",
    "        \n",
    "        ## now update the tracking variables for each episode:\n",
    "        step+=1\n",
    "        \n",
    "        if reward==-10:\n",
    "            penalty+=1\n",
    "        \n",
    "        Reward+=reward\n",
    "    \n",
    "    ## append this episode's step #, penalties, and reward to our lists\n",
    "    all_steps.append(step)\n",
    "    all_penalties.append(penalty)\n",
    "    all_reward.append(Reward)\n",
    "    \n",
    "    \n",
    "    \n",
    "    "
   ]
  },
  {
   "cell_type": "code",
   "execution_count": 8,
   "metadata": {},
   "outputs": [
    {
     "data": {
      "text/plain": [
       "array([-0.69326237,  7.        , -0.87467398, -1.3431132 , -5.15665504,\n",
       "       -4.27036981])"
      ]
     },
     "execution_count": 8,
     "metadata": {},
     "output_type": "execute_result"
    }
   ],
   "source": [
    "q_tab[486]"
   ]
  },
  {
   "cell_type": "markdown",
   "metadata": {},
   "source": [
    "#### See! our agent now knows to move north for the example state 486"
   ]
  },
  {
   "cell_type": "code",
   "execution_count": 9,
   "metadata": {},
   "outputs": [
    {
     "data": {
      "text/plain": [
       "Text(0.5, 0, 'episode #')"
      ]
     },
     "execution_count": 9,
     "metadata": {},
     "output_type": "execute_result"
    },
    {
     "data": {
      "image/png": "[encoded data removed]",
      "text/plain": [
       "<Figure size 1152x1296 with 3 Axes>"
      ]
     },
     "metadata": {
      "needs_background": "light"
     },
     "output_type": "display_data"
    }
   ],
   "source": [
    "## let's plot the steps, penalties and reward during the training process vs episodes:\n",
    "fig, ax=plt.subplots(3,1, figsize=(16, 18))\n",
    "ax[0].plot(np.arange(1, 1001), all_steps[:1000],'r.')\n",
    "ax[1].plot(np.arange(1, 1001), all_penalties[:1000],'b.')\n",
    "ax[2].plot(np.arange(1, 1001), all_reward[:1000],'k.')\n",
    "ax[0].set_ylabel('Steps taken per episode')\n",
    "ax[1].set_ylabel('Penalties (illegal pickup or dropoff) incurred per episode')\n",
    "ax[2].set_ylabel('Reward gained per episode')\n",
    "ax[2].set_xlabel('episode #')"
   ]
  },
  {
   "cell_type": "markdown",
   "metadata": {},
   "source": [
    "#### We can see that our agent converged after only around 700 episodes"
   ]
  },
  {
   "cell_type": "markdown",
   "metadata": {},
   "source": [
    "#### Evaluate our Q-learning trained agent versus a random picking agent using steps, penalties and reward averaged over 100 episodes:"
   ]
  },
  {
   "cell_type": "code",
   "execution_count": 14,
   "metadata": {},
   "outputs": [
    {
     "name": "stdout",
     "output_type": "stream",
     "text": [
      "Q-learning agent, average steps per episode: \t 12.46\n",
      "Q-learning agent, average penalties per episode:\t 0.0\n",
      "Q-learning agent, average rewards per episode:\t 8.54\n"
     ]
    }
   ],
   "source": [
    "## run 100 episodes using our trained Q-learning agents\n",
    "episodes=100\n",
    "\n",
    "steps=[]\n",
    "penalties=[]\n",
    "reward=[]\n",
    "\n",
    "for i in range(episodes):\n",
    "    state=env.reset()\n",
    "    step, penalty, R=0, 0, 0\n",
    "    Done=False\n",
    "    \n",
    "    while not Done:\n",
    "        \n",
    "        action=np.argmax(q_tab[state]) ## picking the best action according to the trained Q-value table.\n",
    "        \n",
    "        next_state, r, Done, info=env.step(action)\n",
    "        \n",
    "        state=next_state\n",
    "        \n",
    "        step+=1\n",
    "        if r==-10:\n",
    "            penalty+=1\n",
    "        R+=r\n",
    "        \n",
    "    steps.append(step)\n",
    "    penalties.append(penalty)\n",
    "    reward.append(R)\n",
    "    \n",
    "print('Q-learning agent, average steps per episode: \\t', np.array(steps).mean())\n",
    "print('Q-learning agent, average penalties per episode:\\t', np.array(penalties).mean())\n",
    "print('Q-learning agent, average rewards per episode:\\t', np.array(reward).mean())"
   ]
  },
  {
   "cell_type": "code",
   "execution_count": 15,
   "metadata": {},
   "outputs": [
    {
     "name": "stdout",
     "output_type": "stream",
     "text": [
      "Random agent, average steps per episode: \t 2238.7\n",
      "Random agent, average penalties per episode: \t 723.58\n",
      "Random agent, average rewards per episode: \t -8729.92\n"
     ]
    }
   ],
   "source": [
    "## now let's do the same evaluation for a random agent:\n",
    "episodes=100\n",
    "\n",
    "steps=[]\n",
    "penalties=[]\n",
    "reward=[]\n",
    "\n",
    "for i in range(episodes):\n",
    "    state=env.reset()\n",
    "    step, penalty, R=0, 0, 0\n",
    "    Done=False\n",
    "    \n",
    "    while not Done:\n",
    "        \n",
    "        action=env.action_space.sample() ## random picking a action\n",
    "        \n",
    "        next_state, r, Done, info=env.step(action)\n",
    "        \n",
    "        state=next_state\n",
    "        \n",
    "        step+=1\n",
    "        if r==-10:\n",
    "            penalty+=1\n",
    "        R+=r\n",
    "        \n",
    "    steps.append(step)\n",
    "    penalties.append(penalty)\n",
    "    reward.append(R)\n",
    "    \n",
    "print('Random agent, average steps per episode: \\t', np.array(steps).mean())\n",
    "print('Random agent, average penalties per episode: \\t', np.array(penalties).mean())\n",
    "print('Random agent, average rewards per episode: \\t', np.array(reward).mean())"
   ]
  },
  {
   "cell_type": "markdown",
   "metadata": {},
   "source": [
    "#### We can see that our Q-learning trained agent performed way better than a random agent, with 0 penalties, average 12.5 steps per trip and average reward of 8.5 per trip."
   ]
  },
  {
   "cell_type": "code",
   "execution_count": null,
   "metadata": {},
   "outputs": [],
   "source": []
  }
 ],
 "metadata": {
  "kernelspec": {
   "display_name": "Python 3",
   "language": "python",
   "name": "python3"
  },
  "language_info": {
   "codemirror_mode": {
    "name": "ipython",
    "version": 3
   },
   "file_extension": ".py",
   "mimetype": "text/x-python",
   "name": "python",
   "nbconvert_exporter": "python",
   "pygments_lexer": "ipython3",
   "version": "3.6.8"
  }
 },
 "nbformat": 4,
 "nbformat_minor": 2
}
